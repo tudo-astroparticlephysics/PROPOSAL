{
 "cells": [
  {
   "cell_type": "code",
   "execution_count": 1,
   "metadata": {},
   "outputs": [],
   "source": [
    "import proposal as pp\n",
    "import numpy as np\n",
    "import matplotlib.pyplot as plt\n",
    "from tqdm import tqdm\n",
    "\n",
    "plt.rcParams['figure.figsize'] = (8, 6)\n",
    "plt.rcParams['font.size'] = 12\n",
    "plt.rcParams['lines.linewidth'] = 2\n",
    "plt.rcParams['axes.labelsize'] = 14"
   ]
  },
  {
   "cell_type": "markdown",
   "metadata": {},
   "source": [
    "# Getting started with PROPOSAL: Propagator\n",
    "\n",
    "The `Propagator` class provides a full three-dimensional particle simulation.\n",
    "Given the information about the *propagation environment* and the *initial particle state*, all particle interactions are simulated. \n",
    "The *output* of the Propagation provides all information about the propagation process, including the final particle state, a list of interactions during the propagation as well as other methods to get the information that are relevant for you.\n",
    "\n",
    "In this notebook, we will go through all steps that are necessary so that you can propagate your first particles with PROPOSAL!"
   ]
  },
  {
   "cell_type": "markdown",
   "metadata": {},
   "source": [
    "## 1. Defining the propagation environment\n",
    "\n",
    "Before we can propagate the first particle, we need to define the world that our particle lives in.\n",
    "This includes information like: \"Out of what materials is our world made of?\", \"What parametrizations should be used to describe the physics in our world\", \"How exact should our propagation be?\" and others.\n",
    "\n",
    "The easiest way to provide this information to PROPOSAL is by using a json *configuration file*.\n",
    "\n",
    "To get started, we may use one of the configuration files that are given in the `examples` folder of the GitHub repository of PROPOSAL. Let's use the [`config_minimal.json`](https://github.com/tudo-astroparticlephysics/PROPOSAL/blob/master/examples/config_minimal.json), which provides a minimal version of a working configuration file. It looks like this:"
   ]
  },
  {
   "cell_type": "markdown",
   "metadata": {},
   "source": [
    "```json\n",
    "{\n",
    "\t\"global\":\n",
    "\t{\n",
    "\t\t\"cuts\":\n",
    "\t\t{\n",
    "\t\t\t\"e_cut\": 500,\n",
    "\t\t\t\"v_cut\": 1,\n",
    "\t\t\t\"cont_rand\": false\n",
    "\t\t}\n",
    "\t},\n",
    "\t\"sectors\": [\n",
    "\t\t{\n",
    "\t\t\t\"medium\": \"ice\",\n",
    "\t\t\t\"geometries\": [\n",
    "\t\t\t\t{\n",
    "\t\t\t\t\t\"hierarchy\": 0,\n",
    "\t\t\t\t\t\"shape\": \"sphere\",\n",
    "\t\t\t\t\t\"origin\": [0, 0, 0],\n",
    "\t\t\t\t\t\"outer_radius\": 1e20\n",
    "\t\t\t\t}\n",
    "\t\t\t]\n",
    "\t\t}\n",
    "\t]\n",
    "}\n",
    "```"
   ]
  },
  {
   "cell_type": "markdown",
   "metadata": {},
   "source": [
    "Firstly, we see a `cuts` object. We can use the settings provided here to define the precision of our propagation. For example, a `e_cut` setting of 500 means that only energy losses bigger than 500 MeV are sampled individually. \n",
    "If you want to learn more about the concept of `EnergyCuts` to steer the propagation precision and performance, you should take a look at the [`EnergyCut` jupyter notebook](https://github.com/tudo-astroparticlephysics/PROPOSAL/blob/master/examples/EnergyCut.ipynb).\n",
    "\n",
    "Secondly, we see a section called `sectors`. The propagation environment can be made out of several sectors, where each sector can have different properties.\n",
    "In this case, we have only one sector: This sector is a sphere with a radius of 1e20 cm and is entirely made of ice.\n",
    "\n",
    "Of course, there are a lot of other options that you may set with the configuration file.\n",
    "If you want to learn which options you can set, look at [`docs/config_docu.md`](https://github.com/tudo-astroparticlephysics/PROPOSAL/blob/master/docs/config_docu.md).\n",
    "There are also other examples of configuration files where more options are set, namely [`config_earth.json`](https://github.com/tudo-astroparticlephysics/PROPOSAL/blob/master/examples/config_earth.json) and [`config_full.json`](https://github.com/tudo-astroparticlephysics/PROPOSAL/blob/master/examples/config_full.json), that you may look at for inspiration.\n",
    "\n",
    "For now, let us continue with our minimal example configuration file."
   ]
  },
  {
   "cell_type": "markdown",
   "metadata": {},
   "source": [
    "## 2. Initializing our Propagator\n",
    "\n",
    "To create our Propagator object, we can use the following constructor:\n",
    "\n",
    "```\n",
    "    pp.Propagator(particle_def, path_to_config_file)\n",
    "```\n",
    "\n",
    "The first argument is a `particle_def` object, which includes the static information (like mass, charge or lifetime) about the particle that we want to propagate (note that the dynamic particle properties like energy, position or direction will be defined later!).\n",
    "\n",
    "The second argument must be a path to a valid json configuration file.\n",
    "\n",
    "(**Side note:** There is also a different way to define a Propagator that does not use a configuration file. This advanced method is described in the jupyter notebook [`AdvancedPropagator`](https://github.com/tudo-astroparticlephysics/PROPOSAL/blob/master/examples/AdvancedPropagator.ipynb).)"
   ]
  },
  {
   "cell_type": "markdown",
   "metadata": {},
   "source": [
    "For this example, let's say we want to create a Propagator for a muon using the `config_minimal.json` configuration file:\n",
    "\n",
    "(**Note:** Creating a Propagator object for a specific configuration for the first time may take some minutes since the interpolation tables have to be created.)"
   ]
  },
  {
   "cell_type": "code",
   "execution_count": 2,
   "metadata": {},
   "outputs": [],
   "source": [
    "particle = pp.particle.MuPlusDef()\n",
    "propagator = pp.Propagator(particle, \"config_minimal.json\")"
   ]
  },
  {
   "cell_type": "markdown",
   "metadata": {},
   "source": [
    "## 3. Defining the initial particle"
   ]
  },
  {
   "cell_type": "markdown",
   "metadata": {},
   "source": [
    "We have already decided that we want to propagate a muon.\n",
    "However, we still need to define the initial state of our particle.\n",
    "\n",
    "For this, we need to define a `ParticleState` object:"
   ]
  },
  {
   "cell_type": "code",
   "execution_count": 3,
   "metadata": {},
   "outputs": [],
   "source": [
    "initial_state = pp.particle.ParticleState()\n",
    "initial_state.energy = 1e6 # energy in MeV\n",
    "initial_state.position = pp.Cartesian3D(0, 0, 0) # set our particle to the origin of the coordinate system\n",
    "initial_state.direction = pp.Cartesian3D(0, 0, 1) # let our particle propagate to the z-direction"
   ]
  },
  {
   "cell_type": "markdown",
   "metadata": {},
   "source": [
    "## 4. Propagating our particle\n",
    "\n",
    "We have our Propagator object and our initial particle state now, so we have everything that we need to start propagating! \n",
    "For this, we use the `propagate` method of our Propagator.\n",
    "\n",
    "But first, let's have a closer look at the `propagate` method itself:\n",
    "\n",
    "```\n",
    "    pp.Propagator.propagate(initial_particle, max_distance=1e20, min_energy=0.0, hierarchy_condition=0)\n",
    "```\n",
    "The first (and mandatory) argument is our `ParticleState` object, which defines the initial state of our particle.\n",
    "All other arguments can be used to define a termination condition, i.e. a condition where our particle propagation should stop:\n",
    "\n",
    "- The `max_distance` parameter detemines that our particle propagation should stop at the latest when our particle has been propagated for a given distance (in cm). Per default, this is set to 1e20cm.\n",
    "- The `min_energy` parameter determines that our particle propagation should stop at the latest when our particle has reached this energy (in MeV). Per default, this is set to 0 MeV.\n",
    "- The `hierarchy_condition` parameter determines that the propagation should stop when we leave a sector with a hierarchy higher than the given `hierarchy_condition` **and** when we enter a sector with a hierarchy lower than the given `hierarchy_condition`. This parameter can therefore be used to tell the Propagator to stop when we leave/enter a certain geometry.\n",
    "\n",
    "For this example, let's just say that we want to propagate our muon until is has decayed.\n",
    "In this case, we do not need to specify any conditions:"
   ]
  },
  {
   "cell_type": "code",
   "execution_count": 4,
   "metadata": {},
   "outputs": [],
   "source": [
    "secondaries = propagator.propagate(initial_state)"
   ]
  },
  {
   "cell_type": "markdown",
   "metadata": {},
   "source": [
    "## 5. Work with the output\n",
    "\n",
    "All information about the propagation process is saved in a `Secondaries` object, which is returned by the `propagate` function.\n",
    "The `Secondaries` object provides a lot of useful utilities to get the specific information that is interesting for every specific usecase. \n",
    "\n",
    "To give a first insight, we will go through two examples that explain how to extract information out of our `Secondaries` object:"
   ]
  },
  {
   "cell_type": "markdown",
   "metadata": {},
   "source": [
    "### 5.1 Get information about the final particle state\n",
    "\n",
    "We can get the `ParticleState` that describes our particle after propagation by using the line\n",
    "\n",
    "```\n",
    "    secondaries.final_state()\n",
    "```\n",
    "\n",
    "If we are interested in the energy that our particle has after the propagation as well as the time and distance that our particle has been propagated for, we can do the following:"
   ]
  },
  {
   "cell_type": "code",
   "execution_count": 5,
   "metadata": {},
   "outputs": [
    {
     "name": "stdout",
     "output_type": "stream",
     "text": [
      "Our final state has an energy of 105.6583745 MeV.\n",
      "This state has been reached after the particle has been propagated for 110433 cm and for 0.0000037 ns.\n"
     ]
    }
   ],
   "source": [
    "final_state = secondaries.final_state()\n",
    "final_energy = final_state.energy\n",
    "final_distance = final_state.propagated_distance\n",
    "final_time = final_state.time\n",
    "print(f\"Our final state has an energy of {final_energy} MeV.\")\n",
    "print(f\"This state has been reached after the particle has been propagated for {final_distance:.0f} cm and for {final_time:.7f} ns.\")"
   ]
  },
  {
   "cell_type": "markdown",
   "metadata": {},
   "source": [
    "### 5.2 Get information about all stochastic interactions\n",
    "\n",
    "If we are interested in all stochastic energy losses of our particle during propagation, we can use the method `stochastic_losses`.\n",
    "This method returns a list of `StochasticLoss` objects.\n",
    "Each of these objects describes a single stochastic energy loss be their `energy`, `type`, `position`, etc."
   ]
  },
  {
   "cell_type": "code",
   "execution_count": 6,
   "metadata": {},
   "outputs": [
    {
     "name": "stdout",
     "output_type": "stream",
     "text": [
      "Energy loss of 522 MeV of the type ioniz at a particle energy of 999261 MeV.\n",
      "Energy loss of 653 MeV of the type epair at a particle energy of 993910 MeV.\n",
      "Energy loss of 629 MeV of the type photonuclear at a particle energy of 993227 MeV.\n",
      "Energy loss of 501 MeV of the type ioniz at a particle energy of 991281 MeV.\n",
      "Energy loss of 1606 MeV of the type epair at a particle energy of 989852 MeV.\n",
      "Energy loss of 6186 MeV of the type epair at a particle energy of 979234 MeV.\n",
      "Energy loss of 1232 MeV of the type ioniz at a particle energy of 970205 MeV.\n",
      "Energy loss of 15517 MeV of the type ioniz at a particle energy of 962523 MeV.\n",
      "Energy loss of 806 MeV of the type epair at a particle energy of 945748 MeV.\n",
      "Energy loss of 1529 MeV of the type epair at a particle energy of 937591 MeV.\n",
      "Energy loss of 766 MeV of the type ioniz at a particle energy of 931212 MeV.\n",
      "Energy loss of 1015 MeV of the type ioniz at a particle energy of 930421 MeV.\n",
      "Energy loss of 759 MeV of the type epair at a particle energy of 928267 MeV.\n",
      "Energy loss of 2357 MeV of the type epair at a particle energy of 918729 MeV.\n",
      "Energy loss of 990 MeV of the type epair at a particle energy of 902251 MeV.\n",
      "Energy loss of 1210 MeV of the type ioniz at a particle energy of 898185 MeV.\n",
      "Energy loss of 3614 MeV of the type ioniz at a particle energy of 896058 MeV.\n",
      "Energy loss of 1268 MeV of the type epair at a particle energy of 890976 MeV.\n",
      "Energy loss of 577 MeV of the type epair at a particle energy of 888605 MeV.\n",
      "Energy loss of 677454 MeV of the type brems at a particle energy of 887111 MeV.\n",
      "Energy loss of 532 MeV of the type ioniz at a particle energy of 208087 MeV.\n",
      "Energy loss of 1463 MeV of the type ioniz at a particle energy of 200658 MeV.\n",
      "Energy loss of 816 MeV of the type epair at a particle energy of 196987 MeV.\n",
      "Energy loss of 546 MeV of the type epair at a particle energy of 196077 MeV.\n",
      "Energy loss of 739 MeV of the type epair at a particle energy of 159086 MeV.\n",
      "Energy loss of 516 MeV of the type ioniz at a particle energy of 156893 MeV.\n",
      "Energy loss of 2284 MeV of the type epair at a particle energy of 156265 MeV.\n",
      "Energy loss of 783 MeV of the type ioniz at a particle energy of 149313 MeV.\n",
      "Energy loss of 3678 MeV of the type ioniz at a particle energy of 145025 MeV.\n",
      "Energy loss of 1357 MeV of the type ioniz at a particle energy of 126619 MeV.\n",
      "Energy loss of 1046 MeV of the type ioniz at a particle energy of 115117 MeV.\n",
      "Energy loss of 785 MeV of the type epair at a particle energy of 113718 MeV.\n",
      "Energy loss of 743 MeV of the type ioniz at a particle energy of 103373 MeV.\n",
      "Energy loss of 1725 MeV of the type ioniz at a particle energy of 101858 MeV.\n",
      "Energy loss of 853 MeV of the type epair at a particle energy of 95165 MeV.\n",
      "Energy loss of 1116 MeV of the type ioniz at a particle energy of 82757 MeV.\n",
      "Energy loss of 728 MeV of the type ioniz at a particle energy of 81513 MeV.\n",
      "Energy loss of 1000 MeV of the type ioniz at a particle energy of 73179 MeV.\n",
      "Energy loss of 994 MeV of the type ioniz at a particle energy of 63283 MeV.\n",
      "Energy loss of 870 MeV of the type ioniz at a particle energy of 60430 MeV.\n",
      "Energy loss of 2456 MeV of the type epair at a particle energy of 59318 MeV.\n",
      "Energy loss of 734 MeV of the type ioniz at a particle energy of 44327 MeV.\n",
      "Energy loss of 998 MeV of the type epair at a particle energy of 41594 MeV.\n",
      "Energy loss of 4971 MeV of the type ioniz at a particle energy of 36823 MeV.\n"
     ]
    }
   ],
   "source": [
    "stochastic_losses = secondaries.stochastic_losses()\n",
    "for loss in stochastic_losses:\n",
    "    loss_energy = loss.energy # size of our energy loss in MeV\n",
    "    loss_parent_energy = loss.parent_particle_energy # energy, in MeV, of our propagated particle \n",
    "                                                     # just before the stochastic energy loss \n",
    "    loss_type = pp.particle.Interaction_Type(loss.type).name # physical type of our energy loss\n",
    "    print(f\"Energy loss of {loss_energy:.0f} MeV of the type {loss_type} at a particle energy of {loss_parent_energy:.0f} MeV.\")"
   ]
  },
  {
   "cell_type": "markdown",
   "metadata": {},
   "source": [
    "You can find other examples of how to use the Propagator in the [`AdvancedPropagator`](http://localhost:8888/notebooks/examples/AdvancedPropagator.ipynb#Propagating) jupyter notebook!"
   ]
  }
 ],
 "metadata": {
  "kernelspec": {
   "display_name": "Python 3",
   "language": "python",
   "name": "python3"
  },
  "language_info": {
   "codemirror_mode": {
    "name": "ipython",
    "version": 3
   },
   "file_extension": ".py",
   "mimetype": "text/x-python",
   "name": "python",
   "nbconvert_exporter": "python",
   "pygments_lexer": "ipython3",
   "version": "3.9.12"
  }
 },
 "nbformat": 4,
 "nbformat_minor": 4
}
