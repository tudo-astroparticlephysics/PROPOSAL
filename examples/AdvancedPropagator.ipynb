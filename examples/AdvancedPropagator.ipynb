{
 "cells": [
  {
   "cell_type": "code",
   "execution_count": 1,
   "metadata": {},
   "outputs": [],
   "source": [
    "import proposal as pp\n",
    "import numpy as np\n",
    "import matplotlib.pyplot as plt\n",
    "from tqdm import tqdm\n",
    "\n",
    "plt.rcParams['figure.figsize'] = (8, 6)\n",
    "plt.rcParams['font.size'] = 12\n",
    "plt.rcParams['lines.linewidth'] = 2\n",
    "plt.rcParams['axes.labelsize'] = 14"
   ]
  },
  {
   "cell_type": "code",
   "execution_count": 2,
   "metadata": {},
   "outputs": [],
   "source": [
    "pp.InterpolationSettings.tables_path = \"/tmp\" # save interpolation tables to folder"
   ]
  },
  {
   "cell_type": "markdown",
   "metadata": {},
   "source": [
    "# Propagator\n",
    "The propagator object combines all interaction utilies to a complete propagation. It can be used to simulate all interactions of a particle, defined by its initial state, until a break condition has been reached. "
   ]
  },
  {
   "cell_type": "markdown",
   "metadata": {},
   "source": [
    "## Initializing the propagator using a configuration file\n",
    "The easiest way to intialize a propagator object is by using a *json configuration file* with the command\n",
    "\n",
    "```\n",
    "pp.Propagator(particle_def, path_to_config_file)\n",
    "```\n",
    "\n",
    "A documentation of the configuration file is given by the file *config_docu.md*"
   ]
  },
  {
   "cell_type": "markdown",
   "metadata": {},
   "source": [
    "## Initializing the propagator manually with Python objects\n",
    "Alternatively, one can define the propagator manually by creating all necessary python objects.\n",
    "In this example, we will use this way to illustrate the way the propagator works.\n",
    "\n",
    "In general, every propagator consists out of several *Sectors*. Each sector is defined by its *Geometry*, its *density distribution* and its *PropagationUtility*, which is a combination of all utilities that will be used in the sector.\n",
    "By having different sectors, the user can define different propagation behaviours in different parts of the propagation environment (for example a higher precision in the vicinity of the detector, different crosssections for different media, ...)."
   ]
  },
  {
   "cell_type": "markdown",
   "metadata": {},
   "source": [
    "### Defining the crosssections\n",
    "Firstly, we need to define the crosssections providing the physical input for our utilities.\n",
    "We can either use a custom combination of parametrizations or use the particle-dependent standard crossections provided by PROPOSAL (*see the CrossSection example for more information on how to use custom parametrizations*)\n",
    "\n",
    "*Running the following cell for the first time will take some time since interpolation tables need to be built*"
   ]
  },
  {
   "cell_type": "code",
   "execution_count": 3,
   "metadata": {},
   "outputs": [],
   "source": [
    "args = {\n",
    "    \"particle_def\": pp.particle.MuMinusDef(),\n",
    "    \"target\": pp.medium.Ice(),\n",
    "    \"interpolate\": True,\n",
    "    \"cuts\": pp.EnergyCutSettings(np.inf, 0.05, False)\n",
    "}\n",
    "\n",
    "cross = pp.crosssection.make_std_crosssection(**args) # use the standard crosssections"
   ]
  },
  {
   "cell_type": "markdown",
   "metadata": {},
   "source": [
    "### Defining our utilities\n",
    "We can now define our utilities: *Continuous randomization*, *Decay*, *Interaction*, *Displacement*, *Scattering* and *Time*. Interaction, Displacement and Time are mandatory, all other propagation utilities are optional (*see the individual example for more information on the utilities*).\n",
    "\n",
    "For our example, we stick to the mandatory utilities. For each utilitiy, we can decide whether we want to create interpolation tables or not (for particle propagation, we usually want interpolation tables to be built, otherwise propagation will be significantly slower!)"
   ]
  },
  {
   "cell_type": "code",
   "execution_count": 4,
   "metadata": {},
   "outputs": [],
   "source": [
    "collection = pp.PropagationUtilityCollection()\n",
    "\n",
    "collection.displacement = pp.make_displacement(cross, True)\n",
    "collection.interaction = pp.make_interaction(cross, True)\n",
    "collection.time = pp.make_time(cross, args[\"particle_def\"], True)\n",
    "\n",
    "utility = pp.PropagationUtility(collection = collection)"
   ]
  },
  {
   "cell_type": "markdown",
   "metadata": {},
   "source": [
    "### Defining our geometry and our density distribution\n",
    "We just choose a big sphere as our geometry, our density distribution is homogeneous.\n",
    "Here, we could also choose an inhomogeneous density distribution - PROPOSAL provides different models to parametrize inhomogeneities."
   ]
  },
  {
   "cell_type": "code",
   "execution_count": 5,
   "metadata": {},
   "outputs": [],
   "source": [
    "geometry = pp.geometry.Sphere(pp.Cartesian3D(0,0,0), 1e20)\n",
    "density_distr = pp.density_distribution.density_homogeneous(args[\"target\"].mass_density)"
   ]
  },
  {
   "cell_type": "markdown",
   "metadata": {},
   "source": [
    "### Putting together our propagator\n",
    "We can now put together our propagator, in this example only consisting out of one sector. One can easily add additional sectors by adding more combinations of geometry, utility and density_distribution objects."
   ]
  },
  {
   "cell_type": "code",
   "execution_count": 6,
   "metadata": {},
   "outputs": [],
   "source": [
    "prop = pp.Propagator(args[\"particle_def\"], [(geometry, utility, density_distr)])"
   ]
  },
  {
   "cell_type": "markdown",
   "metadata": {},
   "source": [
    "## Propagating\n",
    "We can use the `propagate()` function to propagate a particle defined by its initial state.\n",
    "We can pass a break condition: Either a maximal distance to be propagated or a minimal energy where the propagation will be stopped. If no break condition is passed to the propagator, the particle will propagate until it did decay, have a fatal interaction (e.g. annihilation for positrons) or reached has reached its rest mass."
   ]
  },
  {
   "cell_type": "markdown",
   "metadata": {},
   "source": [
    "### Energy distribution after a fixed distance\n",
    "Assuming a fixed initial particle energy, how does the energy distribution look like after the particle has been propagated for a fixed distance?\n",
    "\n",
    "First, we need to define an initial state:"
   ]
  },
  {
   "cell_type": "code",
   "execution_count": 7,
   "metadata": {},
   "outputs": [],
   "source": [
    "init_state = pp.particle.ParticleState()\n",
    "init_state.energy = 1e9 # initial energy in MeV\n",
    "init_state.position = pp.Cartesian3D(0, 0, 0)\n",
    "init_state.direction = pp.Cartesian3D(0, 0, 1)"
   ]
  },
  {
   "cell_type": "code",
   "execution_count": 8,
   "metadata": {},
   "outputs": [
    {
     "name": "stderr",
     "output_type": "stream",
     "text": [
      "100%|██████████| 100000/100000 [00:01<00:00, 52909.55it/s]\n"
     ]
    },
    {
     "data": {
      "image/png": "[encoded data removed]",
      "text/plain": [
       "<Figure size 576x432 with 1 Axes>"
      ]
     },
     "metadata": {
      "needs_background": "light"
     },
     "output_type": "display_data"
    }
   ],
   "source": [
    "STATISTICS = int(1e5)\n",
    "energies = []\n",
    "\n",
    "for i in tqdm(range(STATISTICS)):\n",
    "    track = prop.propagate(init_state, 1e4) # propagate the initial state for 1e4 cm\n",
    "    energy_at_track_end = track.final_state().energy # save energy at the end of the track\n",
    "    energies.append(energy_at_track_end)\n",
    "    \n",
    "bins = np.geomspace(min(energies), max(energies), 20)\n",
    "plt.xscale('log')\n",
    "plt.xlabel(r'$E \\,/\\, \\mathrm{MeV} $')\n",
    "plt.ylabel(\"Frequency\")\n",
    "_ = plt.hist(energies, bins=bins, log=True) "
   ]
  },
  {
   "cell_type": "markdown",
   "metadata": {},
   "source": [
    "### Distance distribution at a fixed energy\n",
    "Assuming a fixed initial particle energy, how long did the particle propagate to reach a fixed final energy?"
   ]
  },
  {
   "cell_type": "code",
   "execution_count": 9,
   "metadata": {},
   "outputs": [],
   "source": [
    "init_state = pp.particle.ParticleState()\n",
    "init_state.energy = 1e6 # initial energy in MeV\n",
    "init_state.position = pp.Cartesian3D(0, 0, 0)\n",
    "init_state.direction = pp.Cartesian3D(0, 0, 1)"
   ]
  },
  {
   "cell_type": "code",
   "execution_count": 10,
   "metadata": {},
   "outputs": [
    {
     "name": "stderr",
     "output_type": "stream",
     "text": [
      "100%|██████████| 10000/10000 [00:00<00:00, 15720.55it/s]\n"
     ]
    },
    {
     "data": {
      "image/png": "[encoded data removed]",
      "text/plain": [
       "<Figure size 576x432 with 1 Axes>"
      ]
     },
     "metadata": {
      "needs_background": "light"
     },
     "output_type": "display_data"
    }
   ],
   "source": [
    "STATISTICS = int(1e4)\n",
    "final_energy = 1e7 # final energy in MeV\n",
    "distances = []\n",
    "\n",
    "for i in tqdm(range(STATISTICS)):\n",
    "    track = prop.propagate(init_state, 1e20, 1e4) # propagate the initial state until particle reached 1e4 MeV\n",
    "    distance_at_track_end = track.final_state().propagated_distance # save propagated distance at the end of the track\n",
    "    distances.append(distance_at_track_end)\n",
    "    \n",
    "bins = np.geomspace(min(distances), max(distances), 20)\n",
    "plt.xscale('log')\n",
    "plt.xlabel(r'propagated distance $\\,/\\, \\mathrm{cm} $')\n",
    "plt.ylabel(\"Frequency\")\n",
    "_ = plt.hist(distances, bins=bins, log=True) "
   ]
  },
  {
   "cell_type": "markdown",
   "metadata": {},
   "source": [
    "### Examine stochastic interactions\n",
    "Let's assume we are interested in all stochastic interactions of our particle.\n",
    "The return type of `propagate()` provides the utility function `stochastic_losses()` to get all stochastic losses."
   ]
  },
  {
   "cell_type": "code",
   "execution_count": 11,
   "metadata": {},
   "outputs": [],
   "source": [
    "init_state = pp.particle.ParticleState()\n",
    "init_state.energy = 1e7 # initial energy in MeV\n",
    "init_state.position = pp.Cartesian3D(0, 0, 0)\n",
    "init_state.direction = pp.Cartesian3D(0, 0, 1)"
   ]
  },
  {
   "cell_type": "code",
   "execution_count": 12,
   "metadata": {},
   "outputs": [],
   "source": [
    "track = prop.propagate(init_state)"
   ]
  },
  {
   "cell_type": "code",
   "execution_count": 13,
   "metadata": {},
   "outputs": [
    {
     "name": "stdout",
     "output_type": "stream",
     "text": [
      "--- List of stochastic interactions ---\n",
      "\n",
      "Stochastic interaction with a size of 542819 MeV at an initial particle energy of 6014408 MeV. The ID of the Interaction Type is epair. The hash of the target that we interacted with is 9764564051507188568.\n",
      "\n",
      "Stochastic interaction with a size of 322976 MeV at an initial particle energy of 4687484 MeV. The ID of the Interaction Type is photonuclear. The hash of the target that we interacted with is 9764564051507188568.\n",
      "\n",
      "Stochastic interaction with a size of 779950 MeV at an initial particle energy of 4269457 MeV. The ID of the Interaction Type is photonuclear. The hash of the target that we interacted with is 9764564051507188568.\n",
      "\n",
      "Stochastic interaction with a size of 467166 MeV at an initial particle energy of 2691671 MeV. The ID of the Interaction Type is epair. The hash of the target that we interacted with is 9764564051507188568.\n",
      "\n",
      "Stochastic interaction with a size of 331392 MeV at an initial particle energy of 1875243 MeV. The ID of the Interaction Type is brems. The hash of the target that we interacted with is 9764564051507188568.\n",
      "\n",
      "Stochastic interaction with a size of 341296 MeV at an initial particle energy of 1394992 MeV. The ID of the Interaction Type is brems. The hash of the target that we interacted with is 16056410032740017603.\n",
      "\n",
      "Stochastic interaction with a size of 38883 MeV at an initial particle energy of 633084 MeV. The ID of the Interaction Type is photonuclear. The hash of the target that we interacted with is 9764564051507188568.\n",
      "\n",
      "Stochastic interaction with a size of 55354 MeV at an initial particle energy of 489354 MeV. The ID of the Interaction Type is brems. The hash of the target that we interacted with is 9764564051507188568.\n",
      "\n",
      "Stochastic interaction with a size of 113388 MeV at an initial particle energy of 327325 MeV. The ID of the Interaction Type is brems. The hash of the target that we interacted with is 9764564051507188568.\n",
      "\n",
      "Stochastic interaction with a size of 21260 MeV at an initial particle energy of 172330 MeV. The ID of the Interaction Type is brems. The hash of the target that we interacted with is 9764564051507188568.\n",
      "\n",
      "Stochastic interaction with a size of 10514 MeV at an initial particle energy of 104390 MeV. The ID of the Interaction Type is ioniz. The hash of the target that we interacted with is 12919284898413356206.\n",
      "\n"
     ]
    }
   ],
   "source": [
    "print(\"--- List of stochastic interactions ---\\n\")\n",
    "for loss in track.stochastic_losses():\n",
    "    print(f\"Stochastic interaction with a size of {loss.energy:.0f} MeV\", \n",
    "          f\"at an initial particle energy of {loss.parent_particle_energy:.0f} MeV.\",\n",
    "          f\"The ID of the Interaction Type is {pp.particle.Interaction_Type(loss.type).name}. The hash of the target that we interacted with is {loss.target_hash}.\\n\")"
   ]
  },
  {
   "cell_type": "markdown",
   "metadata": {},
   "source": [
    "We can see that our `StochasticLoss` objects carries the information about the target that we interacted with in the form of a hash.\n",
    "For Ionization interactions, this corresponds to the hash of a Medium object.\n",
    "For all other interactions, this corresponds to the hash of a Component object (i.e. an atom).\n",
    "We can get the Medium/Component object corresponding to these hashes using the methods `pp.medium.get_medium_for_hash()` and `pp.component.get_component_for_hash()`:"
   ]
  },
  {
   "cell_type": "code",
   "execution_count": 14,
   "metadata": {},
   "outputs": [
    {
     "name": "stdout",
     "output_type": "stream",
     "text": [
      "We interacted with target Component O\n",
      "We interacted with target Component O\n",
      "We interacted with target Component O\n",
      "We interacted with target Component O\n",
      "We interacted with target Component O\n",
      "We interacted with target Component H\n",
      "We interacted with target Component O\n",
      "We interacted with target Component O\n",
      "We interacted with target Component O\n",
      "We interacted with target Component O\n",
      "We interacted with target Medium ice\n"
     ]
    }
   ],
   "source": [
    "for loss in track.stochastic_losses():\n",
    "    if (loss.type == int(pp.particle.Interaction_Type.ioniz)):\n",
    "        medium_name = pp.medium.get_medium_for_hash(loss.target_hash).name\n",
    "        print(f\"We interacted with target Medium {medium_name}\")\n",
    "    else:\n",
    "        component_name = pp.component.get_component_for_hash(loss.target_hash).name\n",
    "        print(f\"We interacted with target Component {component_name}\")"
   ]
  }
 ],
 "metadata": {
  "kernelspec": {
   "display_name": "Python 3",
   "language": "python",
   "name": "python3"
  },
  "language_info": {
   "codemirror_mode": {
    "name": "ipython",
    "version": 3
   },
   "file_extension": ".py",
   "mimetype": "text/x-python",
   "name": "python",
   "nbconvert_exporter": "python",
   "pygments_lexer": "ipython3",
   "version": "3.9.12"
  }
 },
 "nbformat": 4,
 "nbformat_minor": 4
}
